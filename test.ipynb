{
 "cells": [
  {
   "cell_type": "code",
   "execution_count": 26,
   "metadata": {},
   "outputs": [
    {
     "name": "stdout",
     "output_type": "stream",
     "text": [
      "         total  elementary_and_secondary_edu  higher_edu  public_welfare  \\\n",
      "0  9429.969727                   2406.116699  726.015503     1729.546021   \n",
      "\n",
      "   health_and_hospitals    highways      police    all_other  \\\n",
      "0            575.013611  600.278748  311.752289  3081.246338   \n",
      "\n",
      "   population_thousands  year  hispanic  white  black  asian  indigneous  CT  \n",
      "0           3594.915039  2013      16.1   66.7    9.9    4.5         0.2   1  \n",
      "None\n"
     ]
    }
   ],
   "source": [
    "import pandas as pd\n",
    "from states import states_names\n",
    "\n",
    "def generate_mappings_states():\n",
    "    mappings = {}\n",
    "    for num in range(1, len(states_names) + 1):\n",
    "        mappings[num] = states_names[num-1]\n",
    "    return mappings\n",
    "\n",
    "def norm(x):\n",
    "    norm = pd.read_csv('stats_for_norm.csv')\n",
    "    return (x - norm['mean']) / norm['std']\n",
    "\n",
    "def to_dataframe(input_raw):\n",
    "    # inputs should be dict or list\n",
    "    vals = ['region', 'total','elementary_and_secondary_edu', 'higher_edu' ,'public_welfare','health_and_hospitals','highways','police','all_other' ,'population_thousands','year',\n",
    "     'status_code','hispanic','white','black','asian','indigneous']\n",
    "    \n",
    "    dict_to_df = dict(zip(vals, list(input_raw)))\n",
    "    for key,val in dict_to_df.items():\n",
    "        dict_to_df[key] = [val]\n",
    "    # turn inputs into pandas dataframe\n",
    "    df = pd.DataFrame.from_dict(dict_to_df)\n",
    "    \n",
    "     # one hot encode \n",
    "    one_hot = generate_mappings_states()\n",
    "    df['region'] = df['region'].map(one_hot)\n",
    "    df = pd.get_dummies(df, prefix='', prefix_sep='')\n",
    "\n",
    "    # normalise \n",
    "    norm_df = norm(df)\n",
    "    print(df)\n",
    "\n",
    "#     # return \n",
    "#     return norm_df\n",
    "\n",
    "test = ['Connecticut',9429.969727,2406.116699,726.015503,1729.546021,575.013611,600.278748,311.752289,3081.246338,3594.915039,2013,'CT',16.1,66.7,9.9,4.5,0.2]\n",
    "pandas_df = to_dataframe(test)"
   ]
  },
  {
   "cell_type": "code",
   "execution_count": null,
   "metadata": {},
   "outputs": [],
   "source": []
  }
 ],
 "metadata": {
  "kernelspec": {
   "display_name": "spark",
   "language": "python",
   "name": "spark"
  },
  "language_info": {
   "codemirror_mode": {
    "name": "ipython",
    "version": 3
   },
   "file_extension": ".py",
   "mimetype": "text/x-python",
   "name": "python",
   "nbconvert_exporter": "python",
   "pygments_lexer": "ipython3",
   "version": "3.7.7"
  }
 },
 "nbformat": 4,
 "nbformat_minor": 2
}
